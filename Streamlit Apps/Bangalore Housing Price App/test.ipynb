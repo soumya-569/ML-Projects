{
 "cells": [
  {
   "cell_type": "code",
   "execution_count": 1,
   "id": "9769f498",
   "metadata": {},
   "outputs": [],
   "source": [
    "import numpy as np\n",
    "import pandas as pd\n",
    "import matplotlib.pyplot as plt\n",
    "import seaborn as sns\n",
    "import plotly.express as px\n",
    "import plotly.graph_objects as go"
   ]
  },
  {
   "cell_type": "code",
   "execution_count": 22,
   "id": "50a10b32",
   "metadata": {},
   "outputs": [],
   "source": [
    "file_path = r'F:\\Udemy\\Git\\ML Portfolio\\Streamlit Apps\\Bangalore Housing Price App\\Data\\Bengaluru_House_Data.csv'\n",
    "\n",
    "df = pd.read_csv(file_path)"
   ]
  },
  {
   "cell_type": "code",
   "execution_count": 60,
   "id": "86d0f6ed",
   "metadata": {},
   "outputs": [
    {
     "name": "stderr",
     "output_type": "stream",
     "text": [
      "c:\\Python311\\Lib\\site-packages\\pandas\\io\\formats\\format.py:1458: RuntimeWarning: overflow encountered in cast\n",
      "  has_large_values = (abs_vals > 1e6).any()\n"
     ]
    },
    {
     "data": {
      "application/vnd.microsoft.datawrangler.viewer.v0+json": {
       "columns": [
        {
         "name": "index",
         "rawType": "int64",
         "type": "integer"
        },
        {
         "name": "area_type",
         "rawType": "object",
         "type": "string"
        },
        {
         "name": "availability",
         "rawType": "object",
         "type": "string"
        },
        {
         "name": "location",
         "rawType": "object",
         "type": "string"
        },
        {
         "name": "size",
         "rawType": "object",
         "type": "string"
        },
        {
         "name": "society",
         "rawType": "object",
         "type": "unknown"
        },
        {
         "name": "total_sqft",
         "rawType": "float16",
         "type": "float"
        },
        {
         "name": "bath",
         "rawType": "float64",
         "type": "float"
        },
        {
         "name": "balcony",
         "rawType": "float64",
         "type": "float"
        },
        {
         "name": "price",
         "rawType": "float64",
         "type": "float"
        }
       ],
       "ref": "de41f6bc-82f5-4ffd-9c96-4088fd773f96",
       "rows": [
        [
         "0",
         "Super built-up  Area",
         "19-Dec",
         "Electronic City Phase II",
         "2 BHK",
         "Coomee ",
         "1.056e+03",
         "2.0",
         "1.0",
         "39.07"
        ],
        [
         "1",
         "Plot  Area",
         "Ready To Move",
         "Chikka Tirupathi",
         "4 Bedroom",
         "Theanmp",
         "2.6e+03",
         "5.0",
         "3.0",
         "120.0"
        ],
        [
         "2",
         "Built-up  Area",
         "Ready To Move",
         "Uttarahalli",
         "3 BHK",
         null,
         "1.44e+03",
         "2.0",
         "3.0",
         "62.0"
        ],
        [
         "3",
         "Super built-up  Area",
         "Ready To Move",
         "Lingadheeranahalli",
         "3 BHK",
         "Soiewre",
         "1.521e+03",
         "3.0",
         "1.0",
         "95.0"
        ],
        [
         "4",
         "Super built-up  Area",
         "Ready To Move",
         "Kothanur",
         "2 BHK",
         null,
         "1.2e+03",
         "2.0",
         "1.0",
         "51.0"
        ]
       ],
       "shape": {
        "columns": 9,
        "rows": 5
       }
      },
      "text/html": [
       "<div>\n",
       "<style scoped>\n",
       "    .dataframe tbody tr th:only-of-type {\n",
       "        vertical-align: middle;\n",
       "    }\n",
       "\n",
       "    .dataframe tbody tr th {\n",
       "        vertical-align: top;\n",
       "    }\n",
       "\n",
       "    .dataframe thead th {\n",
       "        text-align: right;\n",
       "    }\n",
       "</style>\n",
       "<table border=\"1\" class=\"dataframe\">\n",
       "  <thead>\n",
       "    <tr style=\"text-align: right;\">\n",
       "      <th></th>\n",
       "      <th>area_type</th>\n",
       "      <th>availability</th>\n",
       "      <th>location</th>\n",
       "      <th>size</th>\n",
       "      <th>society</th>\n",
       "      <th>total_sqft</th>\n",
       "      <th>bath</th>\n",
       "      <th>balcony</th>\n",
       "      <th>price</th>\n",
       "    </tr>\n",
       "  </thead>\n",
       "  <tbody>\n",
       "    <tr>\n",
       "      <th>0</th>\n",
       "      <td>Super built-up  Area</td>\n",
       "      <td>19-Dec</td>\n",
       "      <td>Electronic City Phase II</td>\n",
       "      <td>2 BHK</td>\n",
       "      <td>Coomee</td>\n",
       "      <td>1056.0</td>\n",
       "      <td>2.0</td>\n",
       "      <td>1.0</td>\n",
       "      <td>39.07</td>\n",
       "    </tr>\n",
       "    <tr>\n",
       "      <th>1</th>\n",
       "      <td>Plot  Area</td>\n",
       "      <td>Ready To Move</td>\n",
       "      <td>Chikka Tirupathi</td>\n",
       "      <td>4 Bedroom</td>\n",
       "      <td>Theanmp</td>\n",
       "      <td>2600.0</td>\n",
       "      <td>5.0</td>\n",
       "      <td>3.0</td>\n",
       "      <td>120.00</td>\n",
       "    </tr>\n",
       "    <tr>\n",
       "      <th>2</th>\n",
       "      <td>Built-up  Area</td>\n",
       "      <td>Ready To Move</td>\n",
       "      <td>Uttarahalli</td>\n",
       "      <td>3 BHK</td>\n",
       "      <td>NaN</td>\n",
       "      <td>1440.0</td>\n",
       "      <td>2.0</td>\n",
       "      <td>3.0</td>\n",
       "      <td>62.00</td>\n",
       "    </tr>\n",
       "    <tr>\n",
       "      <th>3</th>\n",
       "      <td>Super built-up  Area</td>\n",
       "      <td>Ready To Move</td>\n",
       "      <td>Lingadheeranahalli</td>\n",
       "      <td>3 BHK</td>\n",
       "      <td>Soiewre</td>\n",
       "      <td>1521.0</td>\n",
       "      <td>3.0</td>\n",
       "      <td>1.0</td>\n",
       "      <td>95.00</td>\n",
       "    </tr>\n",
       "    <tr>\n",
       "      <th>4</th>\n",
       "      <td>Super built-up  Area</td>\n",
       "      <td>Ready To Move</td>\n",
       "      <td>Kothanur</td>\n",
       "      <td>2 BHK</td>\n",
       "      <td>NaN</td>\n",
       "      <td>1200.0</td>\n",
       "      <td>2.0</td>\n",
       "      <td>1.0</td>\n",
       "      <td>51.00</td>\n",
       "    </tr>\n",
       "  </tbody>\n",
       "</table>\n",
       "</div>"
      ],
      "text/plain": [
       "              area_type   availability                  location       size  \\\n",
       "0  Super built-up  Area         19-Dec  Electronic City Phase II      2 BHK   \n",
       "1            Plot  Area  Ready To Move          Chikka Tirupathi  4 Bedroom   \n",
       "2        Built-up  Area  Ready To Move               Uttarahalli      3 BHK   \n",
       "3  Super built-up  Area  Ready To Move        Lingadheeranahalli      3 BHK   \n",
       "4  Super built-up  Area  Ready To Move                  Kothanur      2 BHK   \n",
       "\n",
       "   society  total_sqft  bath  balcony   price  \n",
       "0  Coomee       1056.0   2.0      1.0   39.07  \n",
       "1  Theanmp      2600.0   5.0      3.0  120.00  \n",
       "2      NaN      1440.0   2.0      3.0   62.00  \n",
       "3  Soiewre      1521.0   3.0      1.0   95.00  \n",
       "4      NaN      1200.0   2.0      1.0   51.00  "
      ]
     },
     "execution_count": 60,
     "metadata": {},
     "output_type": "execute_result"
    }
   ],
   "source": [
    "df.head()"
   ]
  },
  {
   "cell_type": "code",
   "execution_count": 5,
   "id": "40d3f134",
   "metadata": {},
   "outputs": [
    {
     "data": {
      "application/vnd.microsoft.datawrangler.viewer.v0+json": {
       "columns": [
        {
         "name": "index",
         "rawType": "object",
         "type": "string"
        },
        {
         "name": "area_type",
         "rawType": "object",
         "type": "unknown"
        },
        {
         "name": "availability",
         "rawType": "object",
         "type": "unknown"
        },
        {
         "name": "location",
         "rawType": "object",
         "type": "unknown"
        },
        {
         "name": "size",
         "rawType": "object",
         "type": "unknown"
        },
        {
         "name": "society",
         "rawType": "object",
         "type": "unknown"
        },
        {
         "name": "total_sqft",
         "rawType": "object",
         "type": "unknown"
        },
        {
         "name": "bath",
         "rawType": "float64",
         "type": "float"
        },
        {
         "name": "balcony",
         "rawType": "float64",
         "type": "float"
        },
        {
         "name": "price",
         "rawType": "float64",
         "type": "float"
        }
       ],
       "ref": "57d5a671-817e-4079-a2ba-48a68cc67233",
       "rows": [
        [
         "count",
         "13320",
         "13320",
         "13319",
         "13304",
         "7818",
         "13320",
         "13247.0",
         "12711.0",
         "13320.0"
        ],
        [
         "unique",
         "4",
         "81",
         "1305",
         "31",
         "2688",
         "2117",
         null,
         null,
         null
        ],
        [
         "top",
         "Super built-up  Area",
         "Ready To Move",
         "Whitefield",
         "2 BHK",
         "GrrvaGr",
         "1200",
         null,
         null,
         null
        ],
        [
         "freq",
         "8790",
         "10581",
         "540",
         "5199",
         "80",
         "843",
         null,
         null,
         null
        ],
        [
         "mean",
         null,
         null,
         null,
         null,
         null,
         null,
         "2.6926096474673513",
         "1.5843757375501535",
         "112.5656265015015"
        ],
        [
         "std",
         null,
         null,
         null,
         null,
         null,
         null,
         "1.3414580781243859",
         "0.8172634299202003",
         "148.97167376967403"
        ],
        [
         "min",
         null,
         null,
         null,
         null,
         null,
         null,
         "1.0",
         "0.0",
         "8.0"
        ],
        [
         "25%",
         null,
         null,
         null,
         null,
         null,
         null,
         "2.0",
         "1.0",
         "50.0"
        ],
        [
         "50%",
         null,
         null,
         null,
         null,
         null,
         null,
         "2.0",
         "2.0",
         "72.0"
        ],
        [
         "75%",
         null,
         null,
         null,
         null,
         null,
         null,
         "3.0",
         "2.0",
         "120.0"
        ],
        [
         "max",
         null,
         null,
         null,
         null,
         null,
         null,
         "40.0",
         "3.0",
         "3600.0"
        ]
       ],
       "shape": {
        "columns": 9,
        "rows": 11
       }
      },
      "text/html": [
       "<div>\n",
       "<style scoped>\n",
       "    .dataframe tbody tr th:only-of-type {\n",
       "        vertical-align: middle;\n",
       "    }\n",
       "\n",
       "    .dataframe tbody tr th {\n",
       "        vertical-align: top;\n",
       "    }\n",
       "\n",
       "    .dataframe thead th {\n",
       "        text-align: right;\n",
       "    }\n",
       "</style>\n",
       "<table border=\"1\" class=\"dataframe\">\n",
       "  <thead>\n",
       "    <tr style=\"text-align: right;\">\n",
       "      <th></th>\n",
       "      <th>area_type</th>\n",
       "      <th>availability</th>\n",
       "      <th>location</th>\n",
       "      <th>size</th>\n",
       "      <th>society</th>\n",
       "      <th>total_sqft</th>\n",
       "      <th>bath</th>\n",
       "      <th>balcony</th>\n",
       "      <th>price</th>\n",
       "    </tr>\n",
       "  </thead>\n",
       "  <tbody>\n",
       "    <tr>\n",
       "      <th>count</th>\n",
       "      <td>13320</td>\n",
       "      <td>13320</td>\n",
       "      <td>13319</td>\n",
       "      <td>13304</td>\n",
       "      <td>7818</td>\n",
       "      <td>13320</td>\n",
       "      <td>13247.000000</td>\n",
       "      <td>12711.000000</td>\n",
       "      <td>13320.000000</td>\n",
       "    </tr>\n",
       "    <tr>\n",
       "      <th>unique</th>\n",
       "      <td>4</td>\n",
       "      <td>81</td>\n",
       "      <td>1305</td>\n",
       "      <td>31</td>\n",
       "      <td>2688</td>\n",
       "      <td>2117</td>\n",
       "      <td>NaN</td>\n",
       "      <td>NaN</td>\n",
       "      <td>NaN</td>\n",
       "    </tr>\n",
       "    <tr>\n",
       "      <th>top</th>\n",
       "      <td>Super built-up  Area</td>\n",
       "      <td>Ready To Move</td>\n",
       "      <td>Whitefield</td>\n",
       "      <td>2 BHK</td>\n",
       "      <td>GrrvaGr</td>\n",
       "      <td>1200</td>\n",
       "      <td>NaN</td>\n",
       "      <td>NaN</td>\n",
       "      <td>NaN</td>\n",
       "    </tr>\n",
       "    <tr>\n",
       "      <th>freq</th>\n",
       "      <td>8790</td>\n",
       "      <td>10581</td>\n",
       "      <td>540</td>\n",
       "      <td>5199</td>\n",
       "      <td>80</td>\n",
       "      <td>843</td>\n",
       "      <td>NaN</td>\n",
       "      <td>NaN</td>\n",
       "      <td>NaN</td>\n",
       "    </tr>\n",
       "    <tr>\n",
       "      <th>mean</th>\n",
       "      <td>NaN</td>\n",
       "      <td>NaN</td>\n",
       "      <td>NaN</td>\n",
       "      <td>NaN</td>\n",
       "      <td>NaN</td>\n",
       "      <td>NaN</td>\n",
       "      <td>2.692610</td>\n",
       "      <td>1.584376</td>\n",
       "      <td>112.565627</td>\n",
       "    </tr>\n",
       "    <tr>\n",
       "      <th>std</th>\n",
       "      <td>NaN</td>\n",
       "      <td>NaN</td>\n",
       "      <td>NaN</td>\n",
       "      <td>NaN</td>\n",
       "      <td>NaN</td>\n",
       "      <td>NaN</td>\n",
       "      <td>1.341458</td>\n",
       "      <td>0.817263</td>\n",
       "      <td>148.971674</td>\n",
       "    </tr>\n",
       "    <tr>\n",
       "      <th>min</th>\n",
       "      <td>NaN</td>\n",
       "      <td>NaN</td>\n",
       "      <td>NaN</td>\n",
       "      <td>NaN</td>\n",
       "      <td>NaN</td>\n",
       "      <td>NaN</td>\n",
       "      <td>1.000000</td>\n",
       "      <td>0.000000</td>\n",
       "      <td>8.000000</td>\n",
       "    </tr>\n",
       "    <tr>\n",
       "      <th>25%</th>\n",
       "      <td>NaN</td>\n",
       "      <td>NaN</td>\n",
       "      <td>NaN</td>\n",
       "      <td>NaN</td>\n",
       "      <td>NaN</td>\n",
       "      <td>NaN</td>\n",
       "      <td>2.000000</td>\n",
       "      <td>1.000000</td>\n",
       "      <td>50.000000</td>\n",
       "    </tr>\n",
       "    <tr>\n",
       "      <th>50%</th>\n",
       "      <td>NaN</td>\n",
       "      <td>NaN</td>\n",
       "      <td>NaN</td>\n",
       "      <td>NaN</td>\n",
       "      <td>NaN</td>\n",
       "      <td>NaN</td>\n",
       "      <td>2.000000</td>\n",
       "      <td>2.000000</td>\n",
       "      <td>72.000000</td>\n",
       "    </tr>\n",
       "    <tr>\n",
       "      <th>75%</th>\n",
       "      <td>NaN</td>\n",
       "      <td>NaN</td>\n",
       "      <td>NaN</td>\n",
       "      <td>NaN</td>\n",
       "      <td>NaN</td>\n",
       "      <td>NaN</td>\n",
       "      <td>3.000000</td>\n",
       "      <td>2.000000</td>\n",
       "      <td>120.000000</td>\n",
       "    </tr>\n",
       "    <tr>\n",
       "      <th>max</th>\n",
       "      <td>NaN</td>\n",
       "      <td>NaN</td>\n",
       "      <td>NaN</td>\n",
       "      <td>NaN</td>\n",
       "      <td>NaN</td>\n",
       "      <td>NaN</td>\n",
       "      <td>40.000000</td>\n",
       "      <td>3.000000</td>\n",
       "      <td>3600.000000</td>\n",
       "    </tr>\n",
       "  </tbody>\n",
       "</table>\n",
       "</div>"
      ],
      "text/plain": [
       "                   area_type   availability    location   size  society  \\\n",
       "count                  13320          13320       13319  13304     7818   \n",
       "unique                     4             81        1305     31     2688   \n",
       "top     Super built-up  Area  Ready To Move  Whitefield  2 BHK  GrrvaGr   \n",
       "freq                    8790          10581         540   5199       80   \n",
       "mean                     NaN            NaN         NaN    NaN      NaN   \n",
       "std                      NaN            NaN         NaN    NaN      NaN   \n",
       "min                      NaN            NaN         NaN    NaN      NaN   \n",
       "25%                      NaN            NaN         NaN    NaN      NaN   \n",
       "50%                      NaN            NaN         NaN    NaN      NaN   \n",
       "75%                      NaN            NaN         NaN    NaN      NaN   \n",
       "max                      NaN            NaN         NaN    NaN      NaN   \n",
       "\n",
       "       total_sqft          bath       balcony         price  \n",
       "count       13320  13247.000000  12711.000000  13320.000000  \n",
       "unique       2117           NaN           NaN           NaN  \n",
       "top          1200           NaN           NaN           NaN  \n",
       "freq          843           NaN           NaN           NaN  \n",
       "mean          NaN      2.692610      1.584376    112.565627  \n",
       "std           NaN      1.341458      0.817263    148.971674  \n",
       "min           NaN      1.000000      0.000000      8.000000  \n",
       "25%           NaN      2.000000      1.000000     50.000000  \n",
       "50%           NaN      2.000000      2.000000     72.000000  \n",
       "75%           NaN      3.000000      2.000000    120.000000  \n",
       "max           NaN     40.000000      3.000000   3600.000000  "
      ]
     },
     "execution_count": 5,
     "metadata": {},
     "output_type": "execute_result"
    }
   ],
   "source": [
    "df.describe(include='all')"
   ]
  },
  {
   "cell_type": "code",
   "execution_count": 6,
   "id": "b522f08a",
   "metadata": {},
   "outputs": [
    {
     "data": {
      "application/vnd.microsoft.datawrangler.viewer.v0+json": {
       "columns": [
        {
         "name": "index",
         "rawType": "object",
         "type": "string"
        },
        {
         "name": "bath",
         "rawType": "float64",
         "type": "float"
        },
        {
         "name": "balcony",
         "rawType": "float64",
         "type": "float"
        },
        {
         "name": "price",
         "rawType": "float64",
         "type": "float"
        }
       ],
       "ref": "9f5d9829-ea6d-4de9-83ef-e74f77323d2e",
       "rows": [
        [
         "bath",
         "1.0",
         "0.20420111112951336",
         "0.4563451034635018"
        ],
        [
         "balcony",
         "0.20420111112951336",
         "1.0",
         "0.12035530938067711"
        ],
        [
         "price",
         "0.4563451034635018",
         "0.12035530938067711",
         "1.0"
        ]
       ],
       "shape": {
        "columns": 3,
        "rows": 3
       }
      },
      "text/html": [
       "<div>\n",
       "<style scoped>\n",
       "    .dataframe tbody tr th:only-of-type {\n",
       "        vertical-align: middle;\n",
       "    }\n",
       "\n",
       "    .dataframe tbody tr th {\n",
       "        vertical-align: top;\n",
       "    }\n",
       "\n",
       "    .dataframe thead th {\n",
       "        text-align: right;\n",
       "    }\n",
       "</style>\n",
       "<table border=\"1\" class=\"dataframe\">\n",
       "  <thead>\n",
       "    <tr style=\"text-align: right;\">\n",
       "      <th></th>\n",
       "      <th>bath</th>\n",
       "      <th>balcony</th>\n",
       "      <th>price</th>\n",
       "    </tr>\n",
       "  </thead>\n",
       "  <tbody>\n",
       "    <tr>\n",
       "      <th>bath</th>\n",
       "      <td>1.000000</td>\n",
       "      <td>0.204201</td>\n",
       "      <td>0.456345</td>\n",
       "    </tr>\n",
       "    <tr>\n",
       "      <th>balcony</th>\n",
       "      <td>0.204201</td>\n",
       "      <td>1.000000</td>\n",
       "      <td>0.120355</td>\n",
       "    </tr>\n",
       "    <tr>\n",
       "      <th>price</th>\n",
       "      <td>0.456345</td>\n",
       "      <td>0.120355</td>\n",
       "      <td>1.000000</td>\n",
       "    </tr>\n",
       "  </tbody>\n",
       "</table>\n",
       "</div>"
      ],
      "text/plain": [
       "             bath   balcony     price\n",
       "bath     1.000000  0.204201  0.456345\n",
       "balcony  0.204201  1.000000  0.120355\n",
       "price    0.456345  0.120355  1.000000"
      ]
     },
     "execution_count": 6,
     "metadata": {},
     "output_type": "execute_result"
    }
   ],
   "source": [
    "df.corr(numeric_only=True)"
   ]
  },
  {
   "cell_type": "code",
   "execution_count": 31,
   "id": "1332c412",
   "metadata": {},
   "outputs": [
    {
     "name": "stderr",
     "output_type": "stream",
     "text": [
      "C:\\Users\\soumy\\AppData\\Local\\Temp\\ipykernel_11500\\3330702809.py:2: FutureWarning: Series.__getitem__ treating keys as positions is deprecated. In a future version, integer keys will always be treated as labels (consistent with DataFrame behavior). To access a value by position, use `ser.iloc[pos]`\n",
      "  return df.groupby(\"location\",observed=False)[['area_type']].count().sort_values('area_type',ascending=False).reset_index().iloc[0][0]\n"
     ]
    },
    {
     "data": {
      "text/plain": [
       "'Whitefield'"
      ]
     },
     "execution_count": 31,
     "metadata": {},
     "output_type": "execute_result"
    }
   ],
   "source": [
    "def location():\n",
    "    return df.groupby(\"location\",observed=False)[['area_type']].count().sort_values('area_type',ascending=False).reset_index().iloc[0][0]\n",
    "location()"
   ]
  },
  {
   "cell_type": "code",
   "execution_count": 45,
   "id": "b54d69eb",
   "metadata": {},
   "outputs": [
    {
     "data": {
      "application/vnd.microsoft.datawrangler.viewer.v0+json": {
       "columns": [
        {
         "name": "index",
         "rawType": "int64",
         "type": "integer"
        },
        {
         "name": "area_type",
         "rawType": "int64",
         "type": "integer"
        }
       ],
       "ref": "39fac3c2-6f4f-453b-9011-9f032a6fa2db",
       "rows": [
        [
         "0",
         "540"
        ],
        [
         "1",
         "399"
        ],
        [
         "2",
         "302"
        ],
        [
         "3",
         "273"
        ],
        [
         "4",
         "234"
        ],
        [
         "5",
         "213"
        ],
        [
         "6",
         "186"
        ],
        [
         "7",
         "177"
        ],
        [
         "8",
         "175"
        ],
        [
         "9",
         "171"
        ],
        [
         "10",
         "152"
        ],
        [
         "11",
         "152"
        ],
        [
         "12",
         "149"
        ],
        [
         "13",
         "142"
        ],
        [
         "14",
         "132"
        ],
        [
         "15",
         "107"
        ],
        [
         "16",
         "100"
        ],
        [
         "17",
         "96"
        ],
        [
         "18",
         "91"
        ],
        [
         "19",
         "88"
        ],
        [
         "20",
         "88"
        ],
        [
         "21",
         "85"
        ],
        [
         "22",
         "84"
        ],
        [
         "23",
         "82"
        ],
        [
         "24",
         "80"
        ],
        [
         "25",
         "79"
        ],
        [
         "26",
         "75"
        ],
        [
         "27",
         "74"
        ],
        [
         "28",
         "73"
        ],
        [
         "29",
         "73"
        ],
        [
         "30",
         "72"
        ],
        [
         "31",
         "72"
        ],
        [
         "32",
         "72"
        ],
        [
         "33",
         "71"
        ],
        [
         "34",
         "71"
        ],
        [
         "35",
         "70"
        ],
        [
         "36",
         "66"
        ],
        [
         "37",
         "64"
        ],
        [
         "38",
         "63"
        ],
        [
         "39",
         "62"
        ],
        [
         "40",
         "62"
        ],
        [
         "41",
         "60"
        ],
        [
         "42",
         "58"
        ],
        [
         "43",
         "57"
        ],
        [
         "44",
         "56"
        ],
        [
         "45",
         "55"
        ],
        [
         "46",
         "54"
        ],
        [
         "47",
         "54"
        ],
        [
         "48",
         "53"
        ],
        [
         "49",
         "52"
        ]
       ],
       "shape": {
        "columns": 1,
        "rows": 1305
       }
      },
      "text/plain": [
       "0       540\n",
       "1       399\n",
       "2       302\n",
       "3       273\n",
       "4       234\n",
       "       ... \n",
       "1300      1\n",
       "1301      1\n",
       "1302      1\n",
       "1303      1\n",
       "1304      1\n",
       "Name: area_type, Length: 1305, dtype: int64"
      ]
     },
     "execution_count": 45,
     "metadata": {},
     "output_type": "execute_result"
    }
   ],
   "source": [
    "def location_chart():\n",
    "    return df.groupby(\"location\",observed=False)[['area_type']].count().sort_values('area_type',ascending=False).reset_index().iloc[:,-1]\n",
    "location_chart()"
   ]
  },
  {
   "cell_type": "code",
   "execution_count": 55,
   "id": "c9d5a3c2",
   "metadata": {},
   "outputs": [],
   "source": [
    "df['total_sqft'] = np.where((df['total_sqft'].str.isdigit())|(df['total_sqft'].str.isdecimal()),df['total_sqft'],0)"
   ]
  },
  {
   "cell_type": "code",
   "execution_count": 65,
   "id": "dc6c7660",
   "metadata": {},
   "outputs": [
    {
     "data": {
      "application/vnd.microsoft.datawrangler.viewer.v0+json": {
       "columns": [
        {
         "name": "index",
         "rawType": "object",
         "type": "string"
        },
        {
         "name": "total_sqft",
         "rawType": "float64",
         "type": "float"
        },
        {
         "name": "bath",
         "rawType": "float64",
         "type": "float"
        },
        {
         "name": "balcony",
         "rawType": "float64",
         "type": "float"
        },
        {
         "name": "price",
         "rawType": "float64",
         "type": "float"
        }
       ],
       "ref": "a9f7b8e3-590e-46ba-a7de-9dc674d0bab6",
       "rows": [
        [
         "count",
         "13320.0",
         "13247.0",
         "12711.0",
         "13320.0"
        ],
        [
         "mean",
         "1514.8830330330331",
         "2.6926096474673513",
         "1.5843757375501535",
         "112.5656265015015"
        ],
        [
         "std",
         "1249.3652858636842",
         "1.3414580781243859",
         "0.8172634299202003",
         "148.97167376967403"
        ],
        [
         "min",
         "0.0",
         "1.0",
         "0.0",
         "8.0"
        ],
        [
         "25%",
         "1085.0",
         "2.0",
         "1.0",
         "50.0"
        ],
        [
         "50%",
         "1256.5",
         "2.0",
         "2.0",
         "72.0"
        ],
        [
         "75%",
         "1650.0",
         "3.0",
         "2.0",
         "120.0"
        ],
        [
         "max",
         "52288.0",
         "40.0",
         "3.0",
         "3600.0"
        ]
       ],
       "shape": {
        "columns": 4,
        "rows": 8
       }
      },
      "text/html": [
       "<div>\n",
       "<style scoped>\n",
       "    .dataframe tbody tr th:only-of-type {\n",
       "        vertical-align: middle;\n",
       "    }\n",
       "\n",
       "    .dataframe tbody tr th {\n",
       "        vertical-align: top;\n",
       "    }\n",
       "\n",
       "    .dataframe thead th {\n",
       "        text-align: right;\n",
       "    }\n",
       "</style>\n",
       "<table border=\"1\" class=\"dataframe\">\n",
       "  <thead>\n",
       "    <tr style=\"text-align: right;\">\n",
       "      <th></th>\n",
       "      <th>total_sqft</th>\n",
       "      <th>bath</th>\n",
       "      <th>balcony</th>\n",
       "      <th>price</th>\n",
       "    </tr>\n",
       "  </thead>\n",
       "  <tbody>\n",
       "    <tr>\n",
       "      <th>count</th>\n",
       "      <td>13320.000000</td>\n",
       "      <td>13247.000000</td>\n",
       "      <td>12711.000000</td>\n",
       "      <td>13320.000000</td>\n",
       "    </tr>\n",
       "    <tr>\n",
       "      <th>mean</th>\n",
       "      <td>1514.883033</td>\n",
       "      <td>2.692610</td>\n",
       "      <td>1.584376</td>\n",
       "      <td>112.565627</td>\n",
       "    </tr>\n",
       "    <tr>\n",
       "      <th>std</th>\n",
       "      <td>1249.365286</td>\n",
       "      <td>1.341458</td>\n",
       "      <td>0.817263</td>\n",
       "      <td>148.971674</td>\n",
       "    </tr>\n",
       "    <tr>\n",
       "      <th>min</th>\n",
       "      <td>0.000000</td>\n",
       "      <td>1.000000</td>\n",
       "      <td>0.000000</td>\n",
       "      <td>8.000000</td>\n",
       "    </tr>\n",
       "    <tr>\n",
       "      <th>25%</th>\n",
       "      <td>1085.000000</td>\n",
       "      <td>2.000000</td>\n",
       "      <td>1.000000</td>\n",
       "      <td>50.000000</td>\n",
       "    </tr>\n",
       "    <tr>\n",
       "      <th>50%</th>\n",
       "      <td>1256.500000</td>\n",
       "      <td>2.000000</td>\n",
       "      <td>2.000000</td>\n",
       "      <td>72.000000</td>\n",
       "    </tr>\n",
       "    <tr>\n",
       "      <th>75%</th>\n",
       "      <td>1650.000000</td>\n",
       "      <td>3.000000</td>\n",
       "      <td>2.000000</td>\n",
       "      <td>120.000000</td>\n",
       "    </tr>\n",
       "    <tr>\n",
       "      <th>max</th>\n",
       "      <td>52288.000000</td>\n",
       "      <td>40.000000</td>\n",
       "      <td>3.000000</td>\n",
       "      <td>3600.000000</td>\n",
       "    </tr>\n",
       "  </tbody>\n",
       "</table>\n",
       "</div>"
      ],
      "text/plain": [
       "         total_sqft          bath       balcony         price\n",
       "count  13320.000000  13247.000000  12711.000000  13320.000000\n",
       "mean    1514.883033      2.692610      1.584376    112.565627\n",
       "std     1249.365286      1.341458      0.817263    148.971674\n",
       "min        0.000000      1.000000      0.000000      8.000000\n",
       "25%     1085.000000      2.000000      1.000000     50.000000\n",
       "50%     1256.500000      2.000000      2.000000     72.000000\n",
       "75%     1650.000000      3.000000      2.000000    120.000000\n",
       "max    52288.000000     40.000000      3.000000   3600.000000"
      ]
     },
     "execution_count": 65,
     "metadata": {},
     "output_type": "execute_result"
    }
   ],
   "source": [
    "df.describe()"
   ]
  },
  {
   "cell_type": "code",
   "execution_count": 63,
   "id": "4f5c487a",
   "metadata": {},
   "outputs": [],
   "source": [
    "df['total_sqft'] = df['total_sqft'].astype('float64')"
   ]
  },
  {
   "cell_type": "code",
   "execution_count": 67,
   "id": "8fb54b88",
   "metadata": {},
   "outputs": [],
   "source": [
    "avg_sqft = df['total_sqft'].mean()"
   ]
  },
  {
   "cell_type": "code",
   "execution_count": 68,
   "id": "a6dc936e",
   "metadata": {},
   "outputs": [],
   "source": [
    "df['total_sqft'] = np.where(df['total_sqft']==0,avg_sqft,df['total_sqft'])"
   ]
  },
  {
   "cell_type": "code",
   "execution_count": 69,
   "id": "e844fc33",
   "metadata": {},
   "outputs": [
    {
     "data": {
      "text/plain": [
       "np.float64(1552.8688388162939)"
      ]
     },
     "execution_count": 69,
     "metadata": {},
     "output_type": "execute_result"
    }
   ],
   "source": [
    "df['total_sqft'].mean()"
   ]
  },
  {
   "cell_type": "code",
   "execution_count": 71,
   "id": "be5ab495",
   "metadata": {},
   "outputs": [
    {
     "data": {
      "text/plain": [
       "<Axes: >"
      ]
     },
     "execution_count": 71,
     "metadata": {},
     "output_type": "execute_result"
    },
    {
     "data": {
      "image/png": "[encoded data removed]",
      "text/plain": [
       "<Figure size 640x480 with 1 Axes>"
      ]
     },
     "metadata": {},
     "output_type": "display_data"
    }
   ],
   "source": [
    "sns.boxplot(data=df)"
   ]
  },
  {
   "cell_type": "code",
   "execution_count": 80,
   "id": "f883d16e",
   "metadata": {},
   "outputs": [],
   "source": [
    "df['price_per_sqft'] = df['price']/df['total_sqft']"
   ]
  },
  {
   "cell_type": "code",
   "execution_count": 84,
   "id": "874ec9c0",
   "metadata": {},
   "outputs": [
    {
     "data": {
      "text/plain": [
       "np.float64(7.001079265062655)"
      ]
     },
     "execution_count": 84,
     "metadata": {},
     "output_type": "execute_result"
    }
   ],
   "source": [
    "df['price_per_sqft'].mean()*88"
   ]
  },
  {
   "cell_type": "code",
   "execution_count": 79,
   "id": "93228a02",
   "metadata": {},
   "outputs": [
    {
     "data": {
      "text/plain": [
       "np.float64(9905.775132132132)"
      ]
     },
     "execution_count": 79,
     "metadata": {},
     "output_type": "execute_result"
    }
   ],
   "source": [
    "df['price'].mean()*88"
   ]
  }
 ],
 "metadata": {
  "kernelspec": {
   "display_name": "Python 3.13",
   "language": "python",
   "name": "py313"
  },
  "language_info": {
   "codemirror_mode": {
    "name": "ipython",
    "version": 3
   },
   "file_extension": ".py",
   "mimetype": "text/x-python",
   "name": "python",
   "nbconvert_exporter": "python",
   "pygments_lexer": "ipython3",
   "version": "3.11.4"
  }
 },
 "nbformat": 4,
 "nbformat_minor": 5
}
